{
 "cells": [
  {
   "cell_type": "code",
   "execution_count": 14,
   "metadata": {},
   "outputs": [
    {
     "name": "stdout",
     "output_type": "stream",
     "text": [
      "1.3.0\n"
     ]
    }
   ],
   "source": [
    "import tensorflow as tf\n",
    "import numpy as np\n",
    "import matplotlib.pyplot as plt\n",
    "import matplotlib.cm as cm\n",
    "import pandas as pd\n",
    "print(tf.__version__)"
   ]
  },
  {
   "cell_type": "code",
   "execution_count": 15,
   "metadata": {
    "collapsed": true
   },
   "outputs": [],
   "source": [
    "a = tf.constant(2)\n",
    "b = tf.constant(3)\n",
    "\n",
    "mat1 = tf.constant ([[1,3,2],\n",
    "                    [1,0,0],\n",
    "                    [1,2,2]])\n",
    "mat2 = tf.constant ([[1,0,5],\n",
    "                    [7,5,0],\n",
    "                    [2,1,1]])"
   ]
  },
  {
   "cell_type": "code",
   "execution_count": 13,
   "metadata": {},
   "outputs": [],
   "source": [
    "suma = tf.add(a,b)\n",
    "mult = tf.multiply(a,b)\n",
    "cubo = a ** 3\n",
    "suma_mat = tf.add(mat1,mat2)\n",
    "mult_mat = tf.matmul(mat1,mat2)\n"
   ]
  },
  {
   "cell_type": "code",
   "execution_count": 17,
   "metadata": {},
   "outputs": [
    {
     "name": "stdout",
     "output_type": "stream",
     "text": [
      "Suma de constantes: 5\n",
      "Multiplicacion de constantes: 6\n",
      "Constante elevada al cubo: 8\n",
      "Suma de matrices: \n",
      "[[2 3 7]\n",
      " [8 5 0]\n",
      " [3 3 3]]\n",
      "Producto de matrices:\n",
      " [[26 17  7]\n",
      " [ 1  0  5]\n",
      " [19 12  7]]\n"
     ]
    }
   ],
   "source": [
    "with tf.Session() as sess:\n",
    "    print(\"Suma de constantes: {}\".format(sess.run(suma)))\n",
    "    print(\"Multiplicacion de constantes: {}\".format(sess.run(mult)))\n",
    "    print(\"Constante elevada al cubo: {}\".format(sess.run(cubo)))\n",
    "    print(\"Suma de matrices: \\n{}\".format(sess.run(suma_mat)))\n",
    "    print(\"Producto de matrices:\\n {}\".format(sess.run(mult_mat)))"
   ]
  },
  {
   "cell_type": "code",
   "execution_count": 22,
   "metadata": {},
   "outputs": [
    {
     "name": "stdout",
     "output_type": "stream",
     "text": [
      "0\n",
      "1\n",
      "2\n",
      "3\n"
     ]
    }
   ],
   "source": [
    "estado = tf.Variable(0,name = \"contador\")\n",
    "uno = tf.constant(1)\n",
    "nuevo_valor = tf.add(estado,uno)\n",
    "actualizar = tf.assign(estado, nuevo_valor)\n",
    "\n",
    "init = tf.global_variables_initializer()\n",
    "\n",
    "with tf.Session() as sess:\n",
    "    sess.run(init)\n",
    "    print(sess.run(estado))\n",
    "    for _ in range(3):\n",
    "        sess.run(actualizar)\n",
    "        print(sess.run(estado))\n"
   ]
  },
  {
   "cell_type": "code",
   "execution_count": 23,
   "metadata": {},
   "outputs": [
    {
     "name": "stdout",
     "output_type": "stream",
     "text": [
      "[[ 0.94252837  1.60007906  0.63597119  0.80755377]\n",
      " [ 0.55066651  1.12560809  0.30795226  0.59432375]\n",
      " [ 0.52021754  1.03809929  0.39479533  0.61338913]\n",
      " [ 0.44450384  0.87651139  0.39253822  0.64713699]]\n"
     ]
    }
   ],
   "source": [
    "x = tf.placeholder(tf.float32,shape = (4,4))\n",
    "y = tf.matmul(x,x)\n",
    "with tf.Session() as sess:\n",
    "    rand_array = np.random.rand(4,4)\n",
    "    print(sess.run(y,feed_dict = {x:rand_array}))\n",
    "    "
   ]
  },
  {
   "cell_type": "code",
   "execution_count": null,
   "metadata": {
    "collapsed": true
   },
   "outputs": [],
   "source": []
  }
 ],
 "metadata": {
  "kernelspec": {
   "display_name": "Python 2",
   "language": "python",
   "name": "python2"
  },
  "language_info": {
   "codemirror_mode": {
    "name": "ipython",
    "version": 2
   },
   "file_extension": ".py",
   "mimetype": "text/x-python",
   "name": "python",
   "nbconvert_exporter": "python",
   "pygments_lexer": "ipython2",
   "version": "2.7.13"
  }
 },
 "nbformat": 4,
 "nbformat_minor": 2
}
